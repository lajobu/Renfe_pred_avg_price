{
 "cells": [
  {
   "cell_type": "markdown",
   "metadata": {},
   "source": [
    "## Jorge Bueno Perez - 419034"
   ]
  },
  {
   "cell_type": "markdown",
   "metadata": {},
   "source": [
    "## Prediction of the average price of the Spanish rail tickets data "
   ]
  },
  {
   "cell_type": "code",
   "execution_count": 1,
   "metadata": {},
   "outputs": [],
   "source": [
    "import joblib\n",
    "import numpy as np\n",
    "import pandas as pd\n",
    "import matplotlib.pyplot as plt"
   ]
  },
  {
   "cell_type": "code",
   "execution_count": 2,
   "metadata": {},
   "outputs": [],
   "source": [
    "details = [\"On test\", \"Mean Absolute Error\", \"Root Mean Squared Error\", \"RSR test\", \"RSR train\"]\n",
    "model1 = [\"Bagging\", \"6.4601\", \"11.3028\", \"84.86\", \"86.58\"]\n",
    "model2 = [\"Boosting\", \"6.1461\", \"10.9028\", \"85.92\", \"87.73\"]\n",
    "model3 = [\"Decision trees\", \"6.6487\", \"11.6445\", \"83.93\", \"85.85\"]\n",
    "model4 = [\"Random forest\", \"6.4603\", \"11.3032\", \"84.86\", \"84.86\"]\n",
    "model5 = [\"Xgboosting\",  \"6.1251\", \"11.0720\", \"85.48\", \"88.62\"]"
   ]
  },
  {
   "cell_type": "code",
   "execution_count": 3,
   "metadata": {},
   "outputs": [
    {
     "data": {
      "text/html": [
       "<div>\n",
       "<style scoped>\n",
       "    .dataframe tbody tr th:only-of-type {\n",
       "        vertical-align: middle;\n",
       "    }\n",
       "\n",
       "    .dataframe tbody tr th {\n",
       "        vertical-align: top;\n",
       "    }\n",
       "\n",
       "    .dataframe thead th {\n",
       "        text-align: right;\n",
       "    }\n",
       "</style>\n",
       "<table border=\"1\" class=\"dataframe\">\n",
       "  <thead>\n",
       "    <tr style=\"text-align: right;\">\n",
       "      <th></th>\n",
       "      <th>On test</th>\n",
       "      <th>Mean Absolute Error</th>\n",
       "      <th>Root Mean Squared Error</th>\n",
       "      <th>RSR test</th>\n",
       "      <th>RSR train</th>\n",
       "    </tr>\n",
       "  </thead>\n",
       "  <tbody>\n",
       "    <tr>\n",
       "      <th>0</th>\n",
       "      <td>Bagging</td>\n",
       "      <td>6.4601</td>\n",
       "      <td>11.3028</td>\n",
       "      <td>84.86</td>\n",
       "      <td>86.58</td>\n",
       "    </tr>\n",
       "    <tr>\n",
       "      <th>1</th>\n",
       "      <td>Boosting</td>\n",
       "      <td>6.1461</td>\n",
       "      <td>10.9028</td>\n",
       "      <td>85.92</td>\n",
       "      <td>87.73</td>\n",
       "    </tr>\n",
       "    <tr>\n",
       "      <th>2</th>\n",
       "      <td>Decision trees</td>\n",
       "      <td>6.6487</td>\n",
       "      <td>11.6445</td>\n",
       "      <td>83.93</td>\n",
       "      <td>85.85</td>\n",
       "    </tr>\n",
       "    <tr>\n",
       "      <th>3</th>\n",
       "      <td>Random forest</td>\n",
       "      <td>6.4603</td>\n",
       "      <td>11.3032</td>\n",
       "      <td>84.86</td>\n",
       "      <td>84.86</td>\n",
       "    </tr>\n",
       "    <tr>\n",
       "      <th>4</th>\n",
       "      <td>Xgboosting</td>\n",
       "      <td>6.1251</td>\n",
       "      <td>11.0720</td>\n",
       "      <td>85.48</td>\n",
       "      <td>88.62</td>\n",
       "    </tr>\n",
       "  </tbody>\n",
       "</table>\n",
       "</div>"
      ],
      "text/plain": [
       "          On test Mean Absolute Error Root Mean Squared Error RSR test  \\\n",
       "0         Bagging              6.4601                 11.3028    84.86   \n",
       "1        Boosting              6.1461                 10.9028    85.92   \n",
       "2  Decision trees              6.6487                 11.6445    83.93   \n",
       "3   Random forest              6.4603                 11.3032    84.86   \n",
       "4      Xgboosting              6.1251                 11.0720    85.48   \n",
       "\n",
       "  RSR train  \n",
       "0     86.58  \n",
       "1     87.73  \n",
       "2     85.85  \n",
       "3     84.86  \n",
       "4     88.62  "
      ]
     },
     "execution_count": 3,
     "metadata": {},
     "output_type": "execute_result"
    }
   ],
   "source": [
    "df = pd.DataFrame(data= [model1, model2, model3, model4, model5],\n",
    "                 columns= details)\n",
    "df"
   ]
  },
  {
   "cell_type": "code",
   "execution_count": 4,
   "metadata": {},
   "outputs": [
    {
     "data": {
      "image/png": "[encoded data removed]",
      "text/plain": [
       "<Figure size 1260x259.2 with 1 Axes>"
      ]
     },
     "metadata": {
      "needs_background": "light"
     },
     "output_type": "display_data"
    }
   ],
   "source": [
    "def render_mpl_table(data, col_width=2.0, row_height=0.6, font_size=13,\n",
    "                     header_color='darkred', row_colors=['#f1f1f2', 'w'], edge_color='w',\n",
    "                     bbox=[0, 0, 1, 1], header_columns=0,\n",
    "                     ax=None, **kwargs):\n",
    "    colors = [5 * [\"#e9f1f7\"],\n",
    "              5 * [\"#fc7200\"],\n",
    "              5 * [ \"#e9f1f7\"],\n",
    "              5 *[ \"#e9f1f7\"],\n",
    "            5 *[ \"#e9f1f7\"]]\n",
    "    if ax is None:\n",
    "        size = (np.array(data.shape[::-1]) + np.array([0, 1])) * np.array([col_width, row_height])\n",
    "        fig, ax = plt.subplots(figsize=size)\n",
    "        ax.axis('off')\n",
    "    mpl_table = ax.table(cellText=data.values, bbox=bbox, colLabels=data.columns, **kwargs, cellLoc= \"center\", cellColours=colors)\n",
    "    mpl_table.auto_set_font_size(False)\n",
    "    mpl_table.set_fontsize(font_size)\n",
    "    \n",
    "    for k, cell in mpl_table._cells.items():\n",
    "        cell.set_edgecolor(edge_color)\n",
    "        if k[0] == 0 or k[1] < header_columns:\n",
    "            cell.set_text_props(weight='bold', color='w', multialignment= 'center')\n",
    "            cell.set_facecolor(header_color)\n",
    "        else:\n",
    "            cell.set_text_props(weight='bold', color='black', horizontalalignment= 'center')\n",
    "    return ax.get_figure(), ax\n",
    "    set_align_for_column(mpl_table, align=\"center\")\n",
    "\n",
    "fig,ax = render_mpl_table(df, header_columns=0, col_width=3.5)\n",
    "fig.savefig(\"table_results.png\")"
   ]
  },
  {
   "cell_type": "markdown",
   "metadata": {},
   "source": [
    "### As per the above table, it seems the `Boosting` model is the best one, it has the greatest `R square score` on the `test sample`, equal to `87.73`\n",
    "### However, taking into consideration the `R square score` on the `training sample`, the `Xgboosting` model seems to have the greatest score. This result is according to the conclussion made before, which suggests that in this model there is `overfitting problem`"
   ]
  }
 ],
 "metadata": {
  "kernelspec": {
   "display_name": "Python 3",
   "language": "python",
   "name": "python3"
  },
  "language_info": {
   "codemirror_mode": {
    "name": "ipython",
    "version": 3
   },
   "file_extension": ".py",
   "mimetype": "text/x-python",
   "name": "python",
   "nbconvert_exporter": "python",
   "pygments_lexer": "ipython3",
   "version": "3.8.3"
  }
 },
 "nbformat": 4,
 "nbformat_minor": 4
}
