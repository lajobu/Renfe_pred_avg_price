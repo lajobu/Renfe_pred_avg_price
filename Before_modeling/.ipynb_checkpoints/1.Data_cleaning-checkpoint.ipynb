{
 "cells": [
  {
   "cell_type": "markdown",
   "metadata": {},
   "source": [
    "## Jorge Bueno Perez - 419034"
   ]
  },
  {
   "cell_type": "markdown",
   "metadata": {},
   "source": [
    "## Prediction of the average price of the Spanish rail tickets data "
   ]
  },
  {
   "cell_type": "code",
   "execution_count": 2,
   "metadata": {},
   "outputs": [
    {
     "name": "stderr",
     "output_type": "stream",
     "text": [
      "Using plaidml.keras.backend backend.\n"
     ]
    }
   ],
   "source": [
    "import numpy as np\n",
    "import pandas as pd\n",
    "import os\n",
    "\n",
    "os.environ[\"KERAS_BACKEND\"] = \"plaidml.keras.backend\" # most important part\n",
    "\n",
    "import keras\n",
    "import keras.applications as kapp\n",
    "from keras.datasets import cifar10"
   ]
  },
  {
   "cell_type": "code",
   "execution_count": 4,
   "metadata": {},
   "outputs": [],
   "source": [
    "renfe= pd.read_csv(\"~/Desktop/Projects/DL/Regression/Before_modeling/Datasets/Original/thegurus-opendata-renfe-trips.csv\")"
   ]
  },
  {
   "cell_type": "markdown",
   "metadata": {},
   "source": [
    "### The data initially contains `14 columns`"
   ]
  },
  {
   "cell_type": "code",
   "execution_count": 3,
   "metadata": {},
   "outputs": [
    {
     "data": {
      "text/html": [
       "<div>\n",
       "<style scoped>\n",
       "    .dataframe tbody tr th:only-of-type {\n",
       "        vertical-align: middle;\n",
       "    }\n",
       "\n",
       "    .dataframe tbody tr th {\n",
       "        vertical-align: top;\n",
       "    }\n",
       "\n",
       "    .dataframe thead th {\n",
       "        text-align: right;\n",
       "    }\n",
       "</style>\n",
       "<table border=\"1\" class=\"dataframe\">\n",
       "  <thead>\n",
       "    <tr style=\"text-align: right;\">\n",
       "      <th></th>\n",
       "      <th>id</th>\n",
       "      <th>company</th>\n",
       "      <th>origin</th>\n",
       "      <th>destination</th>\n",
       "      <th>departure</th>\n",
       "      <th>arrival</th>\n",
       "      <th>duration</th>\n",
       "      <th>vehicle_type</th>\n",
       "      <th>vehicle_class</th>\n",
       "      <th>price</th>\n",
       "      <th>fare</th>\n",
       "      <th>seats</th>\n",
       "      <th>meta</th>\n",
       "      <th>insert_date</th>\n",
       "    </tr>\n",
       "  </thead>\n",
       "  <tbody>\n",
       "    <tr>\n",
       "      <th>0</th>\n",
       "      <td>1</td>\n",
       "      <td>renfe</td>\n",
       "      <td>MADRID</td>\n",
       "      <td>BARCELONA</td>\n",
       "      <td>2019-04-18 05:50:00</td>\n",
       "      <td>2019-04-18 08:55:00</td>\n",
       "      <td>3.08</td>\n",
       "      <td>AVE</td>\n",
       "      <td>Preferente</td>\n",
       "      <td>68.95</td>\n",
       "      <td>Promo</td>\n",
       "      <td>NaN</td>\n",
       "      <td>{}</td>\n",
       "      <td>2019-04-11 21:49:46</td>\n",
       "    </tr>\n",
       "    <tr>\n",
       "      <th>1</th>\n",
       "      <td>2</td>\n",
       "      <td>renfe</td>\n",
       "      <td>MADRID</td>\n",
       "      <td>BARCELONA</td>\n",
       "      <td>2019-04-18 13:25:00</td>\n",
       "      <td>2019-04-18 16:24:00</td>\n",
       "      <td>2.98</td>\n",
       "      <td>AVE-TGV</td>\n",
       "      <td>Turista</td>\n",
       "      <td>107.70</td>\n",
       "      <td>Flexible</td>\n",
       "      <td>NaN</td>\n",
       "      <td>{}</td>\n",
       "      <td>2019-04-11 21:49:46</td>\n",
       "    </tr>\n",
       "    <tr>\n",
       "      <th>2</th>\n",
       "      <td>3</td>\n",
       "      <td>renfe</td>\n",
       "      <td>MADRID</td>\n",
       "      <td>BARCELONA</td>\n",
       "      <td>2019-04-18 06:30:00</td>\n",
       "      <td>2019-04-18 09:20:00</td>\n",
       "      <td>2.83</td>\n",
       "      <td>AVE</td>\n",
       "      <td>Turista</td>\n",
       "      <td>75.40</td>\n",
       "      <td>Promo</td>\n",
       "      <td>NaN</td>\n",
       "      <td>{}</td>\n",
       "      <td>2019-04-11 21:49:46</td>\n",
       "    </tr>\n",
       "    <tr>\n",
       "      <th>3</th>\n",
       "      <td>4</td>\n",
       "      <td>renfe</td>\n",
       "      <td>MADRID</td>\n",
       "      <td>BARCELONA</td>\n",
       "      <td>2019-04-18 15:30:00</td>\n",
       "      <td>2019-04-18 18:40:00</td>\n",
       "      <td>3.17</td>\n",
       "      <td>AVE</td>\n",
       "      <td>Preferente</td>\n",
       "      <td>NaN</td>\n",
       "      <td>Promo</td>\n",
       "      <td>NaN</td>\n",
       "      <td>{}</td>\n",
       "      <td>2019-04-11 21:49:46</td>\n",
       "    </tr>\n",
       "    <tr>\n",
       "      <th>4</th>\n",
       "      <td>5</td>\n",
       "      <td>renfe</td>\n",
       "      <td>MADRID</td>\n",
       "      <td>BARCELONA</td>\n",
       "      <td>2019-04-18 07:00:00</td>\n",
       "      <td>2019-04-18 09:30:00</td>\n",
       "      <td>2.50</td>\n",
       "      <td>AVE</td>\n",
       "      <td>Turista Plus</td>\n",
       "      <td>106.75</td>\n",
       "      <td>Promo</td>\n",
       "      <td>NaN</td>\n",
       "      <td>{}</td>\n",
       "      <td>2019-04-11 21:49:46</td>\n",
       "    </tr>\n",
       "  </tbody>\n",
       "</table>\n",
       "</div>"
      ],
      "text/plain": [
       "   id company  origin destination            departure              arrival  \\\n",
       "0   1   renfe  MADRID   BARCELONA  2019-04-18 05:50:00  2019-04-18 08:55:00   \n",
       "1   2   renfe  MADRID   BARCELONA  2019-04-18 13:25:00  2019-04-18 16:24:00   \n",
       "2   3   renfe  MADRID   BARCELONA  2019-04-18 06:30:00  2019-04-18 09:20:00   \n",
       "3   4   renfe  MADRID   BARCELONA  2019-04-18 15:30:00  2019-04-18 18:40:00   \n",
       "4   5   renfe  MADRID   BARCELONA  2019-04-18 07:00:00  2019-04-18 09:30:00   \n",
       "\n",
       "   duration vehicle_type vehicle_class   price      fare  seats meta  \\\n",
       "0      3.08          AVE    Preferente   68.95     Promo    NaN   {}   \n",
       "1      2.98      AVE-TGV       Turista  107.70  Flexible    NaN   {}   \n",
       "2      2.83          AVE       Turista   75.40     Promo    NaN   {}   \n",
       "3      3.17          AVE    Preferente     NaN     Promo    NaN   {}   \n",
       "4      2.50          AVE  Turista Plus  106.75     Promo    NaN   {}   \n",
       "\n",
       "           insert_date  \n",
       "0  2019-04-11 21:49:46  \n",
       "1  2019-04-11 21:49:46  \n",
       "2  2019-04-11 21:49:46  \n",
       "3  2019-04-11 21:49:46  \n",
       "4  2019-04-11 21:49:46  "
      ]
     },
     "execution_count": 3,
     "metadata": {},
     "output_type": "execute_result"
    }
   ],
   "source": [
    "renfe.head() # 14 columns"
   ]
  },
  {
   "cell_type": "markdown",
   "metadata": {},
   "source": [
    "# 1) `Filter the columns`:"
   ]
  },
  {
   "cell_type": "markdown",
   "metadata": {},
   "source": [
    "### After that `eight columns` are going to be selected"
   ]
  },
  {
   "cell_type": "code",
   "execution_count": 5,
   "metadata": {},
   "outputs": [],
   "source": [
    "renfe = renfe.filter([\"origin\", \"destination\", \"departure\", \"duration\",\n",
    "             \"vehicle_type\",\"vehicle_class\", \"price\", \"fare\"])"
   ]
  },
  {
   "cell_type": "markdown",
   "metadata": {},
   "source": [
    "### At this point the data contains `38,753,060 rows` and `8 columns`"
   ]
  },
  {
   "cell_type": "code",
   "execution_count": 6,
   "metadata": {},
   "outputs": [
    {
     "data": {
      "text/plain": [
       "38753060"
      ]
     },
     "execution_count": 6,
     "metadata": {},
     "output_type": "execute_result"
    }
   ],
   "source": [
    "renfe.shape[0] "
   ]
  },
  {
   "cell_type": "code",
   "execution_count": 7,
   "metadata": {},
   "outputs": [
    {
     "data": {
      "text/plain": [
       "8"
      ]
     },
     "execution_count": 7,
     "metadata": {},
     "output_type": "execute_result"
    }
   ],
   "source": [
    "renfe.shape[1] "
   ]
  },
  {
   "cell_type": "markdown",
   "metadata": {},
   "source": [
    "# 2) `Removing NaN and zero valus`:"
   ]
  },
  {
   "cell_type": "markdown",
   "metadata": {},
   "source": [
    "### All the rows with a `zero` or `NaN` values are going to be removed"
   ]
  },
  {
   "cell_type": "code",
   "execution_count": 8,
   "metadata": {},
   "outputs": [
    {
     "data": {
      "text/plain": [
       "origin                 0\n",
       "destination            0\n",
       "departure              0\n",
       "duration               0\n",
       "vehicle_type           0\n",
       "vehicle_class    8034239\n",
       "price            9159949\n",
       "fare             8034239\n",
       "dtype: int64"
      ]
     },
     "execution_count": 8,
     "metadata": {},
     "output_type": "execute_result"
    }
   ],
   "source": [
    "renfe.isnull().sum() "
   ]
  },
  {
   "cell_type": "code",
   "execution_count": 9,
   "metadata": {},
   "outputs": [],
   "source": [
    "renfe.dropna(inplace=True)"
   ]
  },
  {
   "cell_type": "code",
   "execution_count": 10,
   "metadata": {},
   "outputs": [
    {
     "data": {
      "text/plain": [
       "102"
      ]
     },
     "execution_count": 10,
     "metadata": {},
     "output_type": "execute_result"
    }
   ],
   "source": [
    "len(renfe[(renfe['price'] == 0)]) "
   ]
  },
  {
   "cell_type": "code",
   "execution_count": 11,
   "metadata": {},
   "outputs": [],
   "source": [
    "renfe = renfe[(renfe['price'] != 0)]"
   ]
  },
  {
   "cell_type": "markdown",
   "metadata": {},
   "source": [
    "# 3) `Grouping by the same kind of travel, price as average`:"
   ]
  },
  {
   "cell_type": "markdown",
   "metadata": {},
   "source": [
    "### As it was seen before the data contains `38,753,060 rows`. There are so many because the data was daily scrapped from the Spanish railway website. This means, that the `same kind of travels were scrapped several times`\n",
    "### For the purpose of this project, which is to `predict the average price`, firstly we should group the same kind of travels, this means same `origin`, `destination`, `departure`, `duration`, `vehicle_type`, `vehicle_class` and `fare`, then returning the averaga `price` in the column with the same name"
   ]
  },
  {
   "cell_type": "code",
   "execution_count": 24,
   "metadata": {},
   "outputs": [],
   "source": [
    "renfe = renfe.groupby(['origin', 'destination', 'departure', 'duration', 'vehicle_type', 'vehicle_class', 'fare'], as_index=False)['price'].mean()"
   ]
  },
  {
   "cell_type": "markdown",
   "metadata": {},
   "source": [
    "# 4) `Removing outliers`:"
   ]
  },
  {
   "cell_type": "code",
   "execution_count": 25,
   "metadata": {},
   "outputs": [
    {
     "data": {
      "text/plain": [
       "<matplotlib.axes._subplots.AxesSubplot at 0x7f9c81eecc70>"
      ]
     },
     "execution_count": 25,
     "metadata": {},
     "output_type": "execute_result"
    },
    {
     "data": {
      "image/png": "[encoded data removed]",
      "text/plain": [
       "<Figure size 432x288 with 1 Axes>"
      ]
     },
     "metadata": {
      "needs_background": "light"
     },
     "output_type": "display_data"
    }
   ],
   "source": [
    "import seaborn as sns\n",
    "sns.boxplot(x= renfe['price']) "
   ]
  },
  {
   "cell_type": "markdown",
   "metadata": {},
   "source": [
    "### As per the `box plot`graph, it seems there are some `outliers`, however we should check this deeper"
   ]
  },
  {
   "cell_type": "code",
   "execution_count": 38,
   "metadata": {},
   "outputs": [
    {
     "data": {
      "text/plain": [
       "0.002367256113438913"
      ]
     },
     "execution_count": 38,
     "metadata": {},
     "output_type": "execute_result"
    }
   ],
   "source": [
    "sum(renfe.price > 250) / len(renfe) * 100"
   ]
  },
  {
   "cell_type": "markdown",
   "metadata": {},
   "source": [
    "### It appears that only `0.0023%` of the data is `greater than the price equal to 250 EUR`, hence we will delete the rows with values in which the price is greater than 250 EUR"
   ]
  },
  {
   "cell_type": "code",
   "execution_count": 39,
   "metadata": {},
   "outputs": [
    {
     "data": {
      "text/plain": [
       "6"
      ]
     },
     "execution_count": 39,
     "metadata": {},
     "output_type": "execute_result"
    }
   ],
   "source": [
    "sum(renfe.price > 250) "
   ]
  },
  {
   "cell_type": "code",
   "execution_count": 42,
   "metadata": {},
   "outputs": [],
   "source": [
    "renfe = renfe[renfe.price < 250]"
   ]
  },
  {
   "cell_type": "markdown",
   "metadata": {},
   "source": [
    "### Only `6 values` were deleated"
   ]
  },
  {
   "cell_type": "markdown",
   "metadata": {},
   "source": [
    "# 5) `Spliting departure column`:"
   ]
  },
  {
   "cell_type": "markdown",
   "metadata": {},
   "source": [
    "### The column `departure` shows the departure time of the train\n",
    "### This `datetime`is going to be splitted in the following ones:\n",
    "- `week_day`: It shows the day of the week, from `Monday= 0`, to `Sunday= 6`\n",
    "- `month`: It shows the number of the month, from `January= 1`, to `December= 12`\n",
    "- `year`: It shows the `year`\n",
    "- `time`: In `hours` and `minutes`"
   ]
  },
  {
   "cell_type": "code",
   "execution_count": 43,
   "metadata": {},
   "outputs": [],
   "source": [
    "renfe['departure'] = pd.to_datetime(renfe['departure']).dt.strftime('%Y-%m-%d %H:%M')\n",
    "renfe['week_day'] = pd.to_datetime(renfe['departure']).dt.dayofweek # Monday=0, Sunday=6\n",
    "renfe['month'] = pd.to_datetime(renfe['departure']).dt.strftime('%m')\n",
    "renfe['year'] = pd.to_datetime(renfe['departure']).dt.strftime('%Y')\n",
    "renfe['time'] = pd.to_datetime(renfe['departure']).dt.strftime('%H:%M')"
   ]
  },
  {
   "cell_type": "markdown",
   "metadata": {},
   "source": [
    "### After the `splitting`of the column `departure`, the same will be removed from the dataset"
   ]
  },
  {
   "cell_type": "code",
   "execution_count": 44,
   "metadata": {},
   "outputs": [],
   "source": [
    "del renfe['departure']"
   ]
  },
  {
   "cell_type": "code",
   "execution_count": 45,
   "metadata": {},
   "outputs": [],
   "source": [
    "#renfe.to_csv(\"~/Desktop/Projects/DL/Regression/Before_modeling/Datasets/renfe.csv\", index=False)"
   ]
  }
 ],
 "metadata": {
  "kernelspec": {
   "display_name": "Python 3",
   "language": "python",
   "name": "python3"
  },
  "language_info": {
   "codemirror_mode": {
    "name": "ipython",
    "version": 3
   },
   "file_extension": ".py",
   "mimetype": "text/x-python",
   "name": "python",
   "nbconvert_exporter": "python",
   "pygments_lexer": "ipython3",
   "version": "3.8.3"
  }
 },
 "nbformat": 4,
 "nbformat_minor": 4
}
