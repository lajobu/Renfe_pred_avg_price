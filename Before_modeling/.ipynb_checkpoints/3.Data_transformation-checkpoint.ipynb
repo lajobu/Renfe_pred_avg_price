{
 "cells": [
  {
   "cell_type": "markdown",
   "metadata": {},
   "source": [
    "## Jorge Bueno Perez - 419034"
   ]
  },
  {
   "cell_type": "markdown",
   "metadata": {},
   "source": [
    "## Prediction of the average price of the Spanish rail tickets data "
   ]
  },
  {
   "cell_type": "code",
   "execution_count": 1,
   "metadata": {},
   "outputs": [
    {
     "name": "stderr",
     "output_type": "stream",
     "text": [
      "Using plaidml.keras.backend backend.\n"
     ]
    }
   ],
   "source": [
    "import numpy as np\n",
    "import pandas as pd\n",
    "from ggplot import *\n",
    "import os\n",
    "import time\n",
    "\n",
    "os.environ[\"KERAS_BACKEND\"] = \"plaidml.keras.backend\" # most important part\n",
    "\n",
    "from sklearn.linear_model import LassoCV\n",
    "import keras\n",
    "import keras.applications as kapp\n",
    "from keras.datasets import cifar10"
   ]
  },
  {
   "cell_type": "code",
   "execution_count": 2,
   "metadata": {},
   "outputs": [],
   "source": [
    "renfe = pd.read_csv(\"~/Desktop/Projects/DL/Regression/Before_modeling/Datasets/renfe1.csv\")"
   ]
  },
  {
   "cell_type": "markdown",
   "metadata": {},
   "source": [
    "# 1) `Feature enginering`:"
   ]
  },
  {
   "cell_type": "markdown",
   "metadata": {},
   "source": [
    "### Several `new features` are going to be created:"
   ]
  },
  {
   "cell_type": "markdown",
   "metadata": {},
   "source": [
    "## - 1.1) `Distance`:"
   ]
  },
  {
   "cell_type": "code",
   "execution_count": 3,
   "metadata": {},
   "outputs": [],
   "source": [
    "coord = pd.read_csv(\"~/Desktop/Projects/DL/Regression/Before_modeling/Others/coord_city.csv\")"
   ]
  },
  {
   "cell_type": "code",
   "execution_count": 4,
   "metadata": {},
   "outputs": [],
   "source": [
    "import haversine as hs"
   ]
  },
  {
   "cell_type": "markdown",
   "metadata": {},
   "source": [
    "### After extracting the `longitude` and `latitude` of the `origin` and `destination` in `Data_exploration`, we are able to extract the `linear distance` between the origin and destination, with the help of the package `haversine`"
   ]
  },
  {
   "cell_type": "code",
   "execution_count": 5,
   "metadata": {},
   "outputs": [
    {
     "name": "stderr",
     "output_type": "stream",
     "text": [
      "/Users/Lajobu/opt/anaconda3/lib/python3.8/site-packages/pandas/core/indexing.py:670: SettingWithCopyWarning: \n",
      "A value is trying to be set on a copy of a slice from a DataFrame\n",
      "\n",
      "See the caveats in the documentation: https://pandas.pydata.org/pandas-docs/stable/user_guide/indexing.html#returning-a-view-versus-a-copy\n",
      "  iloc._setitem_with_indexer(indexer, value)\n"
     ]
    }
   ],
   "source": [
    "coord[\"distance\"] = np.nan\n",
    "for i in range(len(coord)):\n",
    "    coord.distance.iloc[i] =  round(hs.haversine((coord.origin_lng[i], coord.origin_lat[i]), (coord.destination_lng[i], coord.destination_lat[i])), 2)"
   ]
  },
  {
   "cell_type": "code",
   "execution_count": 6,
   "metadata": {},
   "outputs": [],
   "source": [
    "coord[\"or_dest\"] = coord.origin + coord.destination"
   ]
  },
  {
   "cell_type": "code",
   "execution_count": 7,
   "metadata": {},
   "outputs": [],
   "source": [
    "renfe[\"distance\"] = np.nan\n",
    "r = 0\n",
    "for i in range(len(renfe)):\n",
    "    try:\n",
    "        renfe.distance.iloc[i]= np.float(coord[coord['or_dest'].str.contains(str((renfe.origin[i] + renfe.destination[i])))]['distance'])\n",
    "    except:\n",
    "        renfe.distance.iloc[i]= max(coord[coord['or_dest'].str.contains(str((renfe.origin[i] + renfe.destination[i])))]['distance'])\n",
    "    r += 1"
   ]
  },
  {
   "cell_type": "markdown",
   "metadata": {},
   "source": [
    "## - 1.2) `Seasons`:"
   ]
  },
  {
   "cell_type": "markdown",
   "metadata": {},
   "source": [
    "### The column `season` is based on `month`, as follows:\n",
    "- 0: Spring - `January`, `February` and `March`\n",
    "- 1: Summer - `April`, `May` and `June`\n",
    "- 2: Autumn - `July`, `August` and `September`\n",
    "- 3: Winter - `October`, `November` and `December`"
   ]
  },
  {
   "cell_type": "code",
   "execution_count": 8,
   "metadata": {},
   "outputs": [],
   "source": [
    "renfe['season']= renfe['month'].apply(lambda x: int(x/4)) "
   ]
  },
  {
   "cell_type": "markdown",
   "metadata": {},
   "source": [
    "## - 1.3) `Weekend`:"
   ]
  },
  {
   "cell_type": "markdown",
   "metadata": {},
   "source": [
    "### The feature `weekend` is going to be creasted, this is based on `week_day`:\n",
    "- `0 - no weekend`\n",
    "- `1 - weekend`"
   ]
  },
  {
   "cell_type": "code",
   "execution_count": 9,
   "metadata": {},
   "outputs": [],
   "source": [
    "weekend= []\n",
    "for i in range(len(renfe)):\n",
    "    if (renfe.week_day[i] in (0, 1, 2, 3, 4)):\n",
    "        weekend.append(0) # 0 - no weekend\n",
    "    else:\n",
    "        weekend.append(1) # 1 - weekend\n",
    "renfe[\"weekend\"] = weekend"
   ]
  },
  {
   "cell_type": "markdown",
   "metadata": {},
   "source": [
    "## - 1.4) `Times of day`:"
   ]
  },
  {
   "cell_type": "markdown",
   "metadata": {},
   "source": [
    "### The column `time_day` is going to be created as follows:\n",
    "- `Morning: 6:00 - 11:59 - 0`\n",
    "- `Afternoon: 12:00 - 18:59 - 1`\n",
    "- `Evening: 19:00 - 23:59 - 2`\n",
    "- `Night: 00:00 - 5:59 - 3`"
   ]
  },
  {
   "cell_type": "code",
   "execution_count": 10,
   "metadata": {},
   "outputs": [],
   "source": [
    "time = []\n",
    "for i in range(len(renfe)):\n",
    "    if (renfe['time'][i] >= '6:00') & (renfe['time'][i] <= '11:59'): # morning - 0\n",
    "        time.append(0)\n",
    "    elif (renfe['time'][i] >= '12:00') & (renfe['time'][i] <= '18:59'): # afternoon - 1\n",
    "        time.append(1)\n",
    "    elif (renfe['time'][i] >= '19:00') & (renfe['time'][i] <= '23:59'): # evening - 2\n",
    "        time.append(2)\n",
    "    else: # night - 3\n",
    "         time.append(3)\n",
    "renfe[\"time_day\"] = time"
   ]
  },
  {
   "cell_type": "markdown",
   "metadata": {},
   "source": [
    "# 2) `Variables encoding`:"
   ]
  },
  {
   "cell_type": "markdown",
   "metadata": {},
   "source": [
    "## - 2.1) `Origin, destination, vehicle_type, vehicle_class and fare`:"
   ]
  },
  {
   "cell_type": "markdown",
   "metadata": {},
   "source": [
    "### The `characteristic features` are going to be transformed to `integers`"
   ]
  },
  {
   "cell_type": "code",
   "execution_count": 11,
   "metadata": {},
   "outputs": [],
   "source": [
    "list_= renfe.origin.unique().tolist() + renfe.vehicle_type.unique().tolist() + renfe.vehicle_class.unique().tolist() + renfe.fare.unique().tolist()\n",
    "col_names = ['origin','vehicle_type', 'vehicle_class', 'fare']\n",
    "s = {} \n",
    "t = 0 \n",
    "n = 0 \n",
    "r = 0 \n",
    "for i in list_:\n",
    "    if t < len(renfe[col_names[r]].unique().tolist()):\n",
    "        s[list_[n]] = t\n",
    "        t += 1\n",
    "        n += 1\n",
    "    else:\n",
    "        t = 0\n",
    "        s[list_[n]] = t\n",
    "        t += 1\n",
    "        n += 1\n",
    "        r += 1\n",
    "col_names_ = ['origin', 'destination', 'vehicle_type', 'vehicle_class', 'fare']\n",
    "for i in col_names_:\n",
    "    renfe = renfe.replace({i: s})"
   ]
  },
  {
   "cell_type": "markdown",
   "metadata": {},
   "source": [
    "## - 2.2) `Time`:"
   ]
  },
  {
   "cell_type": "markdown",
   "metadata": {},
   "source": [
    "### The time will be changed to `seconds`"
   ]
  },
  {
   "cell_type": "code",
   "execution_count": 12,
   "metadata": {},
   "outputs": [],
   "source": [
    "list_ = renfe.time.sort_values().unique().tolist()\n",
    "s = {}\n",
    "r = 0\n",
    "for i in list_:\n",
    "    s[i] = r\n",
    "    r += 1\n",
    "renfe = renfe.replace({\"time\": s})"
   ]
  },
  {
   "cell_type": "markdown",
   "metadata": {},
   "source": [
    "## - 2.3) `Year`:"
   ]
  },
  {
   "cell_type": "markdown",
   "metadata": {},
   "source": [
    "### The year is going to be transformed to integers:\n",
    "- `2019 - 0`\n",
    "- `2020 - 1`"
   ]
  },
  {
   "cell_type": "code",
   "execution_count": 13,
   "metadata": {},
   "outputs": [],
   "source": [
    "year = []\n",
    "for i in range(len(renfe)):\n",
    "    if (renfe['year'][i] == '2019'): # 2019 - 0\n",
    "        time.append(0)\n",
    "    else: # 2020 - 1\n",
    "         year.append(1)\n",
    "renfe[\"year\"] = year"
   ]
  },
  {
   "cell_type": "markdown",
   "metadata": {},
   "source": [
    "### After all this transformation we will have `15 columns` and `253458 rows`"
   ]
  },
  {
   "cell_type": "code",
   "execution_count": 14,
   "metadata": {},
   "outputs": [
    {
     "data": {
      "text/plain": [
       "(253452, 15)"
      ]
     },
     "execution_count": 14,
     "metadata": {},
     "output_type": "execute_result"
    }
   ],
   "source": [
    "renfe.shape "
   ]
  },
  {
   "cell_type": "markdown",
   "metadata": {},
   "source": [
    "### The dataset contains `2 columns as float points` and `13 columns as integers`"
   ]
  },
  {
   "cell_type": "code",
   "execution_count": 15,
   "metadata": {},
   "outputs": [
    {
     "name": "stdout",
     "output_type": "stream",
     "text": [
      "<class 'pandas.core.frame.DataFrame'>\n",
      "RangeIndex: 253452 entries, 0 to 253451\n",
      "Data columns (total 15 columns):\n",
      " #   Column         Non-Null Count   Dtype  \n",
      "---  ------         --------------   -----  \n",
      " 0   origin         253452 non-null  int64  \n",
      " 1   destination    253452 non-null  int64  \n",
      " 2   duration       253452 non-null  int64  \n",
      " 3   vehicle_type   253452 non-null  int64  \n",
      " 4   vehicle_class  253452 non-null  int64  \n",
      " 5   fare           253452 non-null  int64  \n",
      " 6   price          253452 non-null  float64\n",
      " 7   week_day       253452 non-null  int64  \n",
      " 8   month          253452 non-null  int64  \n",
      " 9   year           253452 non-null  int64  \n",
      " 10  time           253452 non-null  int64  \n",
      " 11  distance       253452 non-null  float64\n",
      " 12  season         253452 non-null  int64  \n",
      " 13  weekend        253452 non-null  int64  \n",
      " 14  time_day       253452 non-null  int64  \n",
      "dtypes: float64(2), int64(13)\n",
      "memory usage: 29.0 MB\n"
     ]
    }
   ],
   "source": [
    "renfe.info() "
   ]
  },
  {
   "cell_type": "markdown",
   "metadata": {},
   "source": [
    "# 3) `Features selection`:"
   ]
  },
  {
   "cell_type": "markdown",
   "metadata": {},
   "source": [
    "### At this point we are going to select features for the model. This step is important to be done after `feature enginering` because it is possible that some created `columns` are not relevant"
   ]
  },
  {
   "cell_type": "markdown",
   "metadata": {},
   "source": [
    "## - 3.1) `Correlation plot`:"
   ]
  },
  {
   "cell_type": "code",
   "execution_count": 16,
   "metadata": {},
   "outputs": [
    {
     "data": {
      "image/png": "[encoded data removed]",
      "text/plain": [
       "<Figure size 792x648 with 2 Axes>"
      ]
     },
     "metadata": {
      "needs_background": "light"
     },
     "output_type": "display_data"
    }
   ],
   "source": [
    "import seaborn as sns\n",
    "import matplotlib.pyplot as plt\n",
    "corr = renfe.corr()\n",
    "mask = np.triu(np.ones_like(corr, dtype=bool))\n",
    "f, ax = plt.subplots(figsize=(11, 9))\n",
    "cmap = sns.diverging_palette(230, 20, as_cmap=True)\n",
    "sns.heatmap(corr, mask=mask, cmap=cmap, vmax=.3, center=0,\n",
    "            square=True, linewidths=.5, cbar_kws={\"shrink\": .5})\n",
    "ax.set_title('Correlation of all the variables',\n",
    "            fontsize=16,\n",
    "            fontweight='bold')\n",
    "plt.savefig('~/Desktop/Projects/DL/Regression/Before_modeling/Figures/corr.png')"
   ]
  },
  {
   "cell_type": "markdown",
   "metadata": {},
   "source": [
    "### It appears that there are not highly correlated features, there is only highly negative correlation between `time` and `time_day`, however the feature `time_day` was created in the `feature enginering`section from `time`, hence this is expected"
   ]
  },
  {
   "cell_type": "markdown",
   "metadata": {},
   "source": [
    "## - 3.2) `Features by importance - embedded method, lasso`:"
   ]
  },
  {
   "cell_type": "markdown",
   "metadata": {},
   "source": [
    "### It will be applied `lasso` model in order to figure out the most important features to explain the target variable, `price`"
   ]
  },
  {
   "cell_type": "code",
   "execution_count": 17,
   "metadata": {},
   "outputs": [],
   "source": [
    "X = renfe.drop([\"price\"],1) \n",
    "y = renfe[\"price\"] "
   ]
  },
  {
   "cell_type": "code",
   "execution_count": 18,
   "metadata": {},
   "outputs": [
    {
     "data": {
      "text/plain": [
       "LassoCV()"
      ]
     },
     "execution_count": 18,
     "metadata": {},
     "output_type": "execute_result"
    }
   ],
   "source": [
    "reg = LassoCV()\n",
    "reg.fit(X, y)"
   ]
  },
  {
   "cell_type": "code",
   "execution_count": 19,
   "metadata": {},
   "outputs": [
    {
     "name": "stdout",
     "output_type": "stream",
     "text": [
      "Best alpha using built-in LassoCV: 2.373720\n",
      "Best score using built-in LassoCV: 0.547332\n"
     ]
    }
   ],
   "source": [
    "print(\"Best alpha using built-in LassoCV: %f\" % reg.alpha_)\n",
    "print(\"Best score using built-in LassoCV: %f\" %reg.score(X,y))\n",
    "coef = pd.Series(reg.coef_, index = X.columns)"
   ]
  },
  {
   "cell_type": "code",
   "execution_count": 20,
   "metadata": {},
   "outputs": [
    {
     "data": {
      "text/plain": [
       "['origin',\n",
       " 'destination',\n",
       " 'duration',\n",
       " 'vehicle_type',\n",
       " 'fare',\n",
       " 'week_day',\n",
       " 'month',\n",
       " 'time',\n",
       " 'distance']"
      ]
     },
     "execution_count": 20,
     "metadata": {},
     "output_type": "execute_result"
    }
   ],
   "source": [
    "sel_feat = (coef != 0)[coef != 0].index.values.tolist()\n",
    "sel_feat"
   ]
  },
  {
   "cell_type": "code",
   "execution_count": 21,
   "metadata": {},
   "outputs": [
    {
     "data": {
      "text/plain": [
       "['vehicle_class', 'year', 'season', 'weekend', 'time_day']"
      ]
     },
     "execution_count": 21,
     "metadata": {},
     "output_type": "execute_result"
    }
   ],
   "source": [
    "unsel_feat = (coef == 0)[coef == 0].index.values.tolist()\n",
    "unsel_feat"
   ]
  },
  {
   "cell_type": "markdown",
   "metadata": {},
   "source": [
    "### The model `selected`:\n",
    "- `origin`\n",
    "- `destination`\n",
    "- `duration`\n",
    "- `vehicle_type`\n",
    "- `fare`\n",
    "- `week_day`\n",
    "- `month`\n",
    "- `time`\n",
    "- `distance`"
   ]
  },
  {
   "cell_type": "markdown",
   "metadata": {},
   "source": [
    "### The model `unselected`:\n",
    "- `vehicle_class`\n",
    "- `year`\n",
    "- `season`\n",
    "- `weekend`\n",
    "- `time_day`"
   ]
  },
  {
   "cell_type": "markdown",
   "metadata": {},
   "source": [
    "### We can see the same results in the `vertical bar plot`:"
   ]
  },
  {
   "cell_type": "code",
   "execution_count": 22,
   "metadata": {},
   "outputs": [
    {
     "data": {
      "image/png": "[encoded data removed]",
      "text/plain": [
       "<Figure size 864x864 with 1 Axes>"
      ]
     },
     "metadata": {
      "needs_background": "light"
     },
     "output_type": "display_data"
    }
   ],
   "source": [
    "imp_coef = coef.sort_values()\n",
    "plt.rcParams['figure.figsize'] = (12, 12)\n",
    "imp_coef.plot(kind = \"barh\")\n",
    "plt.title(\"All features by importance, lasso\", size=20, fontweight=\"bold\")\n",
    "plt.axvline(0, color='r', linestyle='--')\n",
    "plt.tick_params(axis='y', labelsize=14)\n",
    "plt.savefig('~/Desktop/Projects/DL/Regression/Before_modeling/Figures/feat_import.png')"
   ]
  },
  {
   "cell_type": "markdown",
   "metadata": {},
   "source": [
    "## - 3.3) `Correlation plot`, after feature selection:"
   ]
  },
  {
   "cell_type": "markdown",
   "metadata": {},
   "source": [
    "### The `unselected features` described in previous step, are going to be `omitted in the below correlation plot`"
   ]
  },
  {
   "cell_type": "code",
   "execution_count": 23,
   "metadata": {},
   "outputs": [
    {
     "data": {
      "image/png": "[encoded data removed]",
      "text/plain": [
       "<Figure size 792x648 with 2 Axes>"
      ]
     },
     "metadata": {
      "needs_background": "light"
     },
     "output_type": "display_data"
    }
   ],
   "source": [
    "corr = renfe[sel_feat].corr()\n",
    "mask = np.triu(np.ones_like(corr, dtype=bool))\n",
    "f, ax = plt.subplots(figsize=(11, 9))\n",
    "cmap = sns.diverging_palette(230, 20, as_cmap=True)\n",
    "sns.heatmap(corr, mask=mask, cmap=cmap, vmax=.3, center=0,\n",
    "            square=True, linewidths=.5, cbar_kws={\"shrink\": .5})\n",
    "ax.set_title('Correlation of selected variables',\n",
    "            fontsize=16,\n",
    "            fontweight='bold')\n",
    "plt.savefig('~/Desktop/Projects/DL/Regression/Before_modeling/Figures/corr1.png')"
   ]
  },
  {
   "cell_type": "markdown",
   "metadata": {},
   "source": [
    "### It looks like the `variables are not highly negative or positive correlated`"
   ]
  },
  {
   "cell_type": "markdown",
   "metadata": {},
   "source": [
    "## - 3.2) `Features by importance - embedded method, lasso`, from the selected features:"
   ]
  },
  {
   "cell_type": "code",
   "execution_count": 24,
   "metadata": {},
   "outputs": [],
   "source": [
    "X_ = renfe[sel_feat] \n",
    "reg = LassoCV()\n",
    "reg.fit(X_, y)\n",
    "coef_ = pd.Series(reg.coef_, index = X_.columns)"
   ]
  },
  {
   "cell_type": "code",
   "execution_count": 25,
   "metadata": {},
   "outputs": [
    {
     "data": {
      "image/png": "[encoded data removed]",
      "text/plain": [
       "<Figure size 864x864 with 1 Axes>"
      ]
     },
     "metadata": {
      "needs_background": "light"
     },
     "output_type": "display_data"
    }
   ],
   "source": [
    "imp_coef = coef_.sort_values()\n",
    "plt.rcParams['figure.figsize'] = (12, 12)\n",
    "imp_coef.plot(kind = \"barh\")\n",
    "plt.title(\"Selected features by importance, lasso\", size=20, fontweight=\"bold\")\n",
    "plt.axvline(0, color='r', linestyle='--')\n",
    "plt.tick_params(axis='y', labelsize=14)\n",
    "plt.savefig('~/Desktop/Projects/DL/Regression/Before_modeling/Figures/feat_import1.png')"
   ]
  },
  {
   "cell_type": "markdown",
   "metadata": {},
   "source": [
    "### It seems that the most important features are `duration` and `fare`, and `time` does not appear to be really important"
   ]
  },
  {
   "cell_type": "markdown",
   "metadata": {},
   "source": [
    "### The below features are going to be used:\n",
    "- `origin`\n",
    "- `destination`\n",
    "- `duration`\n",
    "- `vehicle_type`\n",
    "- `fare`\n",
    "- `week_day`\n",
    "- `month`\n",
    "- `time`\n",
    "- `distance`"
   ]
  },
  {
   "cell_type": "markdown",
   "metadata": {},
   "source": [
    "### As it can be seen as per the above features, only `distance` created by `feature enginering` was selected, hence we will have 9 columns and one more for the target variable"
   ]
  },
  {
   "cell_type": "code",
   "execution_count": 26,
   "metadata": {},
   "outputs": [],
   "source": [
    "sel_feat.append(\"price\")\n",
    "renfe = renfe[sel_feat]"
   ]
  },
  {
   "cell_type": "code",
   "execution_count": 27,
   "metadata": {},
   "outputs": [],
   "source": [
    "#renfe.to_csv(\"~/Desktop/Projects/DL/Regression/renfe2.csv\", index=False)"
   ]
  },
  {
   "cell_type": "markdown",
   "metadata": {},
   "source": [
    "### Below there is a list of the equivalences of the data transformation, in case it is needed during the models:"
   ]
  },
  {
   "cell_type": "code",
   "execution_count": 28,
   "metadata": {},
   "outputs": [
    {
     "data": {
      "text/plain": [
       "\" Origin & Destination:\\n'ALBACETE': 0,\\n 'ALICANTE': 1,\\n 'BARCELONA': 2,\\n 'CADIZ': 3,\\n 'CASTELLO': 4,\\n 'CASTELLON': 5,\\n 'CIUDAD REAL': 6,\\n 'CORDOBA': 7,\\n 'CUENCA': 8,\\n 'CÓRDOBA': 9,\\n 'GIRONA': 10,\\n 'GRANADA': 11,\\n 'GUADALAJARA': 12,\\n 'HUESCA': 13,\\n 'LEON': 14,\\n 'LEÓN': 15,\\n 'LLEIDA': 16,\\n 'MADRID': 17,\\n 'MALAGA': 18,\\n 'MÁLAGA': 19,\\n 'PALENCIA': 20,\\n 'PONFERRADA': 21,\\n 'SEGOVIA': 22,\\n 'SEVILLA': 23,\\n 'TARRAGONA': 24,\\n 'TOLEDO': 25,\\n 'VALENCIA': 26,\\n 'VALLADOLID': 27,\\n 'ZAMORA': 28,\\n 'ZARAGOZA': 29,\\n \\n # Vehicle type:\\n 'AVE': 0,\\n 'ALTARIA': 1,\\n 'MD': 2,\\n 'INTERCITY': 3,\\n 'ALVIA': 4,\\n 'REG.EXP.': 5,\\n 'MD-LD': 6,\\n 'Intercity': 7,\\n 'MD-AVE': 8,\\n 'LD-AVE': 9,\\n 'R. EXPRES': 10,\\n 'AVE-TGV': 11,\\n 'LD': 12,\\n 'AVLO': 13,\\n 'LD-MD': 14,\\n 'EUROMED': 15,\\n 'TORRE ORO': 16,\\n 'AVANT': 17,\\n 'AV City': 18,\\n 'REGIONAL': 19,\\n 'AVANT-AVE': 20,\\n 'LD-AVANT': 21,\\n 'TRENHOTEL': 22,\\n 'MD-AVANT': 23,\\n 'AVE-MD': 24,\\n 'AVE-LD': 25,\\n 'AVE-AVANT': 26,\\n 'AVE-AVE': 27,\\n 'AVANT-LD': 28,\\n 'AVANT-MD': 29,\\n \\n # Vehicle class:\\n 'Preferente': 0,\\n 'Turista': 1,\\n 'Turista con enlace': 2,\\n 'Turista Plus': 3,\\n 'TuristaSólo plaza H': 4,\\n 'Turista Plus - Turista': 5,\\n 'Cama Turista': 6,\\n 'Turista - Turista Plus': 7,\\n 'Cama G. Clase': 8,\\n 'PreferenteSólo plaza H': 9,\\n 'Turista PlusSólo plaza H': 10,\\n \\n # Fare\\n 'Promo': 0,\\n 'Adulto ida': 1,\\n 'Flexible': 2,\\n 'Promo +': 3,\\n 'YOVOY': 4,\\n 'COD.PROMOCIONAL': 5,\\n 'Grupos Ida': 6,\\n 'Mesa': 7,\\n 'Básica': 8,\\n 'Doble Familiar-Flexible': 9,\\n 'Individual-Flexible': 10\\n \\n # Time:\\n '02:36': 0,\\n '04:12': 1,\\n '04:25': 2,\\n '05:15': 3,\\n '05:30': 4,\\n '05:36': 5,\\n '05:40': 6,\\n '05:50': 7,\\n '06:05': 8,\\n '06:08': 9,\\n '06:10': 10,\\n '06:11': 11,\\n '06:13': 12,\\n '06:15': 13,\\n '06:18': 14,\\n '06:20': 15,\\n '06:23': 16,\\n '06:25': 17,\\n '06:28': 18,\\n '06:30': 19,\\n '06:33': 20,\\n '06:38': 21,\\n '06:39': 22,\\n '06:40': 23,\\n '06:42': 24,\\n '06:43': 25,\\n '06:45': 26,\\n '06:46': 27,\\n '06:50': 28,\\n '06:52': 29,\\n '06:53': 30,\\n '06:55': 31,\\n '07:00': 32,\\n '07:01': 33,\\n '07:02': 34,\\n '07:04': 35,\\n '07:05': 36,\\n '07:07': 37,\\n '07:08': 38,\\n '07:10': 39,\\n '07:14': 40,\\n '07:15': 41,\\n '07:16': 42,\\n '07:17': 43,\\n '07:20': 44,\\n '07:22': 45,\\n '07:24': 46,\\n '07:25': 47,\\n '07:26': 48,\\n '07:28': 49,\\n '07:29': 50,\\n '07:30': 51,\\n '07:35': 52,\\n '07:36': 53,\\n '07:40': 54,\\n '07:43': 55,\\n '07:45': 56,\\n '07:46': 57,\\n '07:47': 58,\\n '07:48': 59,\\n '07:49': 60,\\n '07:50': 61,\\n '07:51': 62,\\n '07:52': 63,\\n '07:55': 64,\\n '07:57': 65,\\n '07:59': 66,\\n '08:00': 67,\\n '08:03': 68,\\n '08:04': 69,\\n '08:05': 70,\\n '08:06': 71,\\n '08:07': 72,\\n '08:09': 73,\\n '08:10': 74,\\n '08:11': 75,\\n '08:12': 76,\\n '08:14': 77,\\n '08:15': 78,\\n '08:20': 79,\\n '08:22': 80,\\n '08:25': 81,\\n '08:26': 82,\\n '08:27': 83,\\n '08:30': 84,\\n '08:31': 85,\\n '08:32': 86,\\n '08:33': 87,\\n '08:34': 88,\\n '08:35': 89,\\n '08:38': 90,\\n '08:40': 91,\\n '08:42': 92,\\n '08:45': 93,\\n '08:48': 94,\\n '08:50': 95,\\n '08:52': 96,\\n '08:55': 97,\\n '08:56': 98,\\n '08:57': 99,\\n '08:58': 100,\\n '08:59': 101,\\n '09:00': 102,\\n '09:03': 103,\\n '09:07': 104,\\n '09:10': 105,\\n '09:12': 106,\\n '09:15': 107,\\n '09:16': 108,\\n '09:19': 109,\\n '09:20': 110,\\n '09:22': 111,\\n '09:23': 112,\\n '09:25': 113,\\n '09:26': 114,\\n '09:29': 115,\\n '09:30': 116,\\n '09:32': 117,\\n '09:35': 118,\\n '09:36': 119,\\n '09:38': 120,\\n '09:40': 121,\\n '09:41': 122,\\n '09:43': 123,\\n '09:45': 124,\\n '09:46': 125,\\n '09:47': 126,\\n '09:50': 127,\\n '09:52': 128,\\n '09:54': 129,\\n '09:59': 130,\\n '10:00': 131,\\n '10:03': 132,\\n '10:05': 133,\\n '10:07': 134,\\n '10:10': 135,\\n '10:11': 136,\\n '10:12': 137,\\n '10:15': 138,\\n '10:18': 139,\\n '10:20': 140,\\n '10:22': 141,\\n '10:25': 142,\\n '10:26': 143,\\n '10:27': 144,\\n '10:30': 145,\\n '10:32': 146,\\n '10:33': 147,\\n '10:35': 148,\\n '10:37': 149,\\n '10:38': 150,\\n '10:39': 151,\\n '10:40': 152,\\n '10:42': 153,\\n '10:43': 154,\\n '10:45': 155,\\n '10:46': 156,\\n '10:47': 157,\\n '10:50': 158,\\n '10:51': 159,\\n '10:53': 160,\\n '10:54': 161,\\n '10:55': 162,\\n '10:57': 163,\\n '10:59': 164,\\n '11:00': 165,\\n '11:02': 166,\\n '11:03': 167,\\n '11:05': 168,\\n '11:10': 169,\\n '11:11': 170,\\n '11:12': 171,\\n '11:13': 172,\\n '11:15': 173,\\n '11:16': 174,\\n '11:20': 175,\\n '11:23': 176,\\n '11:25': 177,\\n '11:27': 178,\\n '11:28': 179,\\n '11:29': 180,\\n '11:30': 181,\\n '11:35': 182,\\n '11:38': 183,\\n '11:40': 184,\\n '11:43': 185,\\n '11:44': 186,\\n '11:45': 187,\\n '11:46': 188,\\n '11:48': 189,\\n '11:50': 190,\\n '11:52': 191,\\n '11:53': 192,\\n '11:55': 193,\\n '11:56': 194,\\n '11:57': 195,\\n '11:58': 196,\\n '11:59': 197,\\n '12:00': 198,\\n '12:02': 199,\\n '12:04': 200,\\n '12:05': 201,\\n '12:07': 202,\\n '12:10': 203,\\n '12:12': 204,\\n '12:13': 205,\\n '12:15': 206,\\n '12:18': 207,\\n '12:20': 208,\\n '12:21': 209,\\n '12:25': 210,\\n '12:26': 211,\\n '12:29': 212,\\n '12:30': 213,\\n '12:32': 214,\\n '12:33': 215,\\n '12:36': 216,\\n '12:40': 217,\\n '12:42': 218,\\n '12:43': 219,\\n '12:46': 220,\\n '12:50': 221,\\n '12:51': 222,\\n '12:52': 223,\\n '12:56': 224,\\n '12:59': 225,\\n '13:00': 226,\\n '13:05': 227,\\n '13:10': 228,\\n '13:11': 229,\\n '13:15': 230,\\n '13:16': 231,\\n '13:18': 232,\\n '13:25': 233,\\n '13:26': 234,\\n '13:30': 235,\\n '13:33': 236,\\n '13:35': 237,\\n '13:36': 238,\\n '13:38': 239,\\n '13:40': 240,\\n '13:43': 241,\\n '13:44': 242,\\n '13:45': 243,\\n '13:46': 244,\\n '13:50': 245,\\n '13:59': 246,\\n '14:00': 247,\\n '14:05': 248,\\n '14:06': 249,\\n '14:07': 250,\\n '14:09': 251,\\n '14:10': 252,\\n '14:12': 253,\\n '14:15': 254,\\n '14:16': 255,\\n '14:17': 256,\\n '14:19': 257,\\n '14:20': 258,\\n '14:21': 259,\\n '14:24': 260,\\n '14:25': 261,\\n '14:30': 262,\\n '14:32': 263,\\n '14:33': 264,\\n '14:35': 265,\\n '14:36': 266,\\n '14:40': 267,\\n '14:42': 268,\\n '14:43': 269,\\n '14:45': 270,\\n '14:47': 271,\\n '14:50': 272,\\n '14:51': 273,\\n '14:55': 274,\\n '14:57': 275,\\n '14:58': 276,\\n '14:59': 277,\\n '15:00': 278,\\n '15:04': 279,\\n '15:05': 280,\\n '15:06': 281,\\n '15:10': 282,\\n '15:11': 283,\\n '15:15': 284,\\n '15:16': 285,\\n '15:20': 286,\\n '15:22': 287,\\n '15:25': 288,\\n '15:28': 289,\\n '15:29': 290,\\n '15:30': 291,\\n '15:32': 292,\\n '15:33': 293,\\n '15:35': 294,\\n '15:39': 295,\\n '15:40': 296,\\n '15:43': 297,\\n '15:44': 298,\\n '15:45': 299,\\n '15:47': 300,\\n '15:50': 301,\\n '15:52': 302,\\n '15:54': 303,\\n '15:55': 304,\\n '15:57': 305,\\n '15:58': 306,\\n '15:59': 307,\\n '16:00': 308,\\n '16:01': 309,\\n '16:02': 310,\\n '16:03': 311,\\n '16:05': 312,\\n '16:07': 313,\\n '16:10': 314,\\n '16:12': 315,\\n '16:15': 316,\\n '16:16': 317,\\n '16:17': 318,\\n '16:18': 319,\\n '16:20': 320,\\n '16:21': 321,\\n '16:22': 322,\\n '16:24': 323,\\n '16:25': 324,\\n '16:26': 325,\\n '16:27': 326,\\n '16:28': 327,\\n '16:29': 328,\\n '16:30': 329,\\n '16:32': 330,\\n '16:33': 331,\\n '16:35': 332,\\n '16:38': 333,\\n '16:39': 334,\\n '16:40': 335,\\n '16:43': 336,\\n '16:44': 337,\\n '16:45': 338,\\n '16:48': 339,\\n '16:50': 340,\\n '16:52': 341,\\n '16:55': 342,\\n '16:56': 343,\\n '16:59': 344,\\n '17:00': 345,\\n '17:01': 346,\\n '17:02': 347,\\n '17:03': 348,\\n '17:04': 349,\\n '17:05': 350,\\n '17:10': 351,\\n '17:12': 352,\\n '17:14': 353,\\n '17:15': 354,\\n '17:20': 355,\\n '17:21': 356,\\n '17:22': 357,\\n '17:25': 358,\\n '17:26': 359,\\n '17:28': 360,\\n '17:29': 361,\\n '17:30': 362,\\n '17:32': 363,\\n '17:34': 364,\\n '17:35': 365,\\n '17:36': 366,\\n '17:38': 367,\\n '17:40': 368,\\n '17:43': 369,\\n '17:45': 370,\\n '17:46': 371,\\n '17:47': 372,\\n '17:48': 373,\\n '17:50': 374,\\n '17:51': 375,\\n '17:54': 376,\\n '17:55': 377,\\n '17:56': 378,\\n '18:00': 379,\\n '18:02': 380,\\n '18:05': 381,\\n '18:07': 382,\\n '18:10': 383,\\n '18:11': 384,\\n '18:15': 385,\\n '18:22': 386,\\n '18:25': 387,\\n '18:26': 388,\\n '18:27': 389,\\n '18:29': 390,\\n '18:30': 391,\\n '18:31': 392,\\n '18:32': 393,\\n '18:33': 394,\\n '18:35': 395,\\n '18:36': 396,\\n '18:37': 397,\\n '18:38': 398,\\n '18:39': 399,\\n '18:40': 400,\\n '18:43': 401,\\n '18:44': 402,\\n '18:45': 403,\\n '18:47': 404,\\n '18:50': 405,\\n '18:52': 406,\\n '18:53': 407,\\n '18:54': 408,\\n '18:55': 409,\\n '18:56': 410,\\n '18:59': 411,\\n '19:00': 412,\\n '19:01': 413,\\n '19:04': 414,\\n '19:05': 415,\\n '19:08': 416,\\n '19:10': 417,\\n '19:11': 418,\\n '19:12': 419,\\n '19:13': 420,\\n '19:14': 421,\\n '19:15': 422,\\n '19:16': 423,\\n '19:17': 424,\\n '19:18': 425,\\n '19:19': 426,\\n '19:20': 427,\\n '19:25': 428,\\n '19:29': 429,\\n '19:30': 430,\\n '19:32': 431,\\n '19:35': 432,\\n '19:36': 433,\\n '19:40': 434,\\n '19:41': 435,\\n '19:43': 436,\\n '19:45': 437,\\n '19:46': 438,\\n '19:50': 439,\\n '19:55': 440,\\n '19:56': 441,\\n '19:57': 442,\\n '19:58': 443,\\n '20:00': 444,\\n '20:01': 445,\\n '20:02': 446,\\n '20:05': 447,\\n '20:06': 448,\\n '20:08': 449,\\n '20:10': 450,\\n '20:13': 451,\\n '20:14': 452,\\n '20:15': 453,\\n '20:20': 454,\\n '20:23': 455,\\n '20:25': 456,\\n '20:26': 457,\\n '20:27': 458,\\n '20:28': 459,\\n '20:29': 460,\\n '20:30': 461,\\n '20:31': 462,\\n '20:33': 463,\\n '20:35': 464,\\n '20:36': 465,\\n '20:37': 466,\\n '20:38': 467,\\n '20:40': 468,\\n '20:41': 469,\\n '20:43': 470,\\n '20:45': 471,\\n '20:46': 472,\\n '20:50': 473,\\n '20:55': 474,\\n '20:59': 475,\\n '21:00': 476,\\n '21:03': 477,\\n '21:05': 478,\\n '21:06': 479,\\n '21:08': 480,\\n '21:09': 481,\\n '21:10': 482,\\n '21:12': 483,\\n '21:15': 484,\\n '21:18': 485,\\n '21:20': 486,\\n '21:21': 487,\\n '21:22': 488,\\n '21:25': 489,\\n '21:26': 490,\\n '21:27': 491,\\n '21:28': 492,\\n '21:29': 493,\\n '21:30': 494,\\n '21:31': 495,\\n '21:32': 496,\\n '21:33': 497,\\n '21:36': 498,\\n '21:37': 499,\\n '21:42': 500,\\n '21:43': 501,\\n '21:45': 502,\\n '21:46': 503,\\n '21:47': 504,\\n '21:48': 505,\\n '21:50': 506,\\n '21:55': 507,\\n '21:56': 508,\\n '21:59': 509,\\n '22:00': 510,\\n '22:05': 511,\\n '22:08': 512,\\n '22:11': 513,\\n '22:14': 514,\\n '22:15': 515,\\n '22:24': 516,\\n '22:25': 517,\\n '22:31': 518,\\n '22:43': 519,\\n '22:55': 520,\\n '23:40': 521\\n \\n # Year:\\n '2019': 0,\\n '2020': 1 \""
      ]
     },
     "execution_count": 28,
     "metadata": {},
     "output_type": "execute_result"
    }
   ],
   "source": [
    "\"\"\" Origin & Destination:\n",
    "'ALBACETE': 0,\n",
    " 'ALICANTE': 1,\n",
    " 'BARCELONA': 2,\n",
    " 'CADIZ': 3,\n",
    " 'CASTELLO': 4,\n",
    " 'CASTELLON': 5,\n",
    " 'CIUDAD REAL': 6,\n",
    " 'CORDOBA': 7,\n",
    " 'CUENCA': 8,\n",
    " 'CÓRDOBA': 9,\n",
    " 'GIRONA': 10,\n",
    " 'GRANADA': 11,\n",
    " 'GUADALAJARA': 12,\n",
    " 'HUESCA': 13,\n",
    " 'LEON': 14,\n",
    " 'LEÓN': 15,\n",
    " 'LLEIDA': 16,\n",
    " 'MADRID': 17,\n",
    " 'MALAGA': 18,\n",
    " 'MÁLAGA': 19,\n",
    " 'PALENCIA': 20,\n",
    " 'PONFERRADA': 21,\n",
    " 'SEGOVIA': 22,\n",
    " 'SEVILLA': 23,\n",
    " 'TARRAGONA': 24,\n",
    " 'TOLEDO': 25,\n",
    " 'VALENCIA': 26,\n",
    " 'VALLADOLID': 27,\n",
    " 'ZAMORA': 28,\n",
    " 'ZARAGOZA': 29,\n",
    " \n",
    " # Vehicle type:\n",
    " 'AVE': 0,\n",
    " 'ALTARIA': 1,\n",
    " 'MD': 2,\n",
    " 'INTERCITY': 3,\n",
    " 'ALVIA': 4,\n",
    " 'REG.EXP.': 5,\n",
    " 'MD-LD': 6,\n",
    " 'Intercity': 7,\n",
    " 'MD-AVE': 8,\n",
    " 'LD-AVE': 9,\n",
    " 'R. EXPRES': 10,\n",
    " 'AVE-TGV': 11,\n",
    " 'LD': 12,\n",
    " 'AVLO': 13,\n",
    " 'LD-MD': 14,\n",
    " 'EUROMED': 15,\n",
    " 'TORRE ORO': 16,\n",
    " 'AVANT': 17,\n",
    " 'AV City': 18,\n",
    " 'REGIONAL': 19,\n",
    " 'AVANT-AVE': 20,\n",
    " 'LD-AVANT': 21,\n",
    " 'TRENHOTEL': 22,\n",
    " 'MD-AVANT': 23,\n",
    " 'AVE-MD': 24,\n",
    " 'AVE-LD': 25,\n",
    " 'AVE-AVANT': 26,\n",
    " 'AVE-AVE': 27,\n",
    " 'AVANT-LD': 28,\n",
    " 'AVANT-MD': 29,\n",
    " \n",
    " # Vehicle class:\n",
    " 'Preferente': 0,\n",
    " 'Turista': 1,\n",
    " 'Turista con enlace': 2,\n",
    " 'Turista Plus': 3,\n",
    " 'TuristaSólo plaza H': 4,\n",
    " 'Turista Plus - Turista': 5,\n",
    " 'Cama Turista': 6,\n",
    " 'Turista - Turista Plus': 7,\n",
    " 'Cama G. Clase': 8,\n",
    " 'PreferenteSólo plaza H': 9,\n",
    " 'Turista PlusSólo plaza H': 10,\n",
    " \n",
    " # Fare\n",
    " 'Promo': 0,\n",
    " 'Adulto ida': 1,\n",
    " 'Flexible': 2,\n",
    " 'Promo +': 3,\n",
    " 'YOVOY': 4,\n",
    " 'COD.PROMOCIONAL': 5,\n",
    " 'Grupos Ida': 6,\n",
    " 'Mesa': 7,\n",
    " 'Básica': 8,\n",
    " 'Doble Familiar-Flexible': 9,\n",
    " 'Individual-Flexible': 10\n",
    " \n",
    " # Time:\n",
    " '02:36': 0,\n",
    " '04:12': 1,\n",
    " '04:25': 2,\n",
    " '05:15': 3,\n",
    " '05:30': 4,\n",
    " '05:36': 5,\n",
    " '05:40': 6,\n",
    " '05:50': 7,\n",
    " '06:05': 8,\n",
    " '06:08': 9,\n",
    " '06:10': 10,\n",
    " '06:11': 11,\n",
    " '06:13': 12,\n",
    " '06:15': 13,\n",
    " '06:18': 14,\n",
    " '06:20': 15,\n",
    " '06:23': 16,\n",
    " '06:25': 17,\n",
    " '06:28': 18,\n",
    " '06:30': 19,\n",
    " '06:33': 20,\n",
    " '06:38': 21,\n",
    " '06:39': 22,\n",
    " '06:40': 23,\n",
    " '06:42': 24,\n",
    " '06:43': 25,\n",
    " '06:45': 26,\n",
    " '06:46': 27,\n",
    " '06:50': 28,\n",
    " '06:52': 29,\n",
    " '06:53': 30,\n",
    " '06:55': 31,\n",
    " '07:00': 32,\n",
    " '07:01': 33,\n",
    " '07:02': 34,\n",
    " '07:04': 35,\n",
    " '07:05': 36,\n",
    " '07:07': 37,\n",
    " '07:08': 38,\n",
    " '07:10': 39,\n",
    " '07:14': 40,\n",
    " '07:15': 41,\n",
    " '07:16': 42,\n",
    " '07:17': 43,\n",
    " '07:20': 44,\n",
    " '07:22': 45,\n",
    " '07:24': 46,\n",
    " '07:25': 47,\n",
    " '07:26': 48,\n",
    " '07:28': 49,\n",
    " '07:29': 50,\n",
    " '07:30': 51,\n",
    " '07:35': 52,\n",
    " '07:36': 53,\n",
    " '07:40': 54,\n",
    " '07:43': 55,\n",
    " '07:45': 56,\n",
    " '07:46': 57,\n",
    " '07:47': 58,\n",
    " '07:48': 59,\n",
    " '07:49': 60,\n",
    " '07:50': 61,\n",
    " '07:51': 62,\n",
    " '07:52': 63,\n",
    " '07:55': 64,\n",
    " '07:57': 65,\n",
    " '07:59': 66,\n",
    " '08:00': 67,\n",
    " '08:03': 68,\n",
    " '08:04': 69,\n",
    " '08:05': 70,\n",
    " '08:06': 71,\n",
    " '08:07': 72,\n",
    " '08:09': 73,\n",
    " '08:10': 74,\n",
    " '08:11': 75,\n",
    " '08:12': 76,\n",
    " '08:14': 77,\n",
    " '08:15': 78,\n",
    " '08:20': 79,\n",
    " '08:22': 80,\n",
    " '08:25': 81,\n",
    " '08:26': 82,\n",
    " '08:27': 83,\n",
    " '08:30': 84,\n",
    " '08:31': 85,\n",
    " '08:32': 86,\n",
    " '08:33': 87,\n",
    " '08:34': 88,\n",
    " '08:35': 89,\n",
    " '08:38': 90,\n",
    " '08:40': 91,\n",
    " '08:42': 92,\n",
    " '08:45': 93,\n",
    " '08:48': 94,\n",
    " '08:50': 95,\n",
    " '08:52': 96,\n",
    " '08:55': 97,\n",
    " '08:56': 98,\n",
    " '08:57': 99,\n",
    " '08:58': 100,\n",
    " '08:59': 101,\n",
    " '09:00': 102,\n",
    " '09:03': 103,\n",
    " '09:07': 104,\n",
    " '09:10': 105,\n",
    " '09:12': 106,\n",
    " '09:15': 107,\n",
    " '09:16': 108,\n",
    " '09:19': 109,\n",
    " '09:20': 110,\n",
    " '09:22': 111,\n",
    " '09:23': 112,\n",
    " '09:25': 113,\n",
    " '09:26': 114,\n",
    " '09:29': 115,\n",
    " '09:30': 116,\n",
    " '09:32': 117,\n",
    " '09:35': 118,\n",
    " '09:36': 119,\n",
    " '09:38': 120,\n",
    " '09:40': 121,\n",
    " '09:41': 122,\n",
    " '09:43': 123,\n",
    " '09:45': 124,\n",
    " '09:46': 125,\n",
    " '09:47': 126,\n",
    " '09:50': 127,\n",
    " '09:52': 128,\n",
    " '09:54': 129,\n",
    " '09:59': 130,\n",
    " '10:00': 131,\n",
    " '10:03': 132,\n",
    " '10:05': 133,\n",
    " '10:07': 134,\n",
    " '10:10': 135,\n",
    " '10:11': 136,\n",
    " '10:12': 137,\n",
    " '10:15': 138,\n",
    " '10:18': 139,\n",
    " '10:20': 140,\n",
    " '10:22': 141,\n",
    " '10:25': 142,\n",
    " '10:26': 143,\n",
    " '10:27': 144,\n",
    " '10:30': 145,\n",
    " '10:32': 146,\n",
    " '10:33': 147,\n",
    " '10:35': 148,\n",
    " '10:37': 149,\n",
    " '10:38': 150,\n",
    " '10:39': 151,\n",
    " '10:40': 152,\n",
    " '10:42': 153,\n",
    " '10:43': 154,\n",
    " '10:45': 155,\n",
    " '10:46': 156,\n",
    " '10:47': 157,\n",
    " '10:50': 158,\n",
    " '10:51': 159,\n",
    " '10:53': 160,\n",
    " '10:54': 161,\n",
    " '10:55': 162,\n",
    " '10:57': 163,\n",
    " '10:59': 164,\n",
    " '11:00': 165,\n",
    " '11:02': 166,\n",
    " '11:03': 167,\n",
    " '11:05': 168,\n",
    " '11:10': 169,\n",
    " '11:11': 170,\n",
    " '11:12': 171,\n",
    " '11:13': 172,\n",
    " '11:15': 173,\n",
    " '11:16': 174,\n",
    " '11:20': 175,\n",
    " '11:23': 176,\n",
    " '11:25': 177,\n",
    " '11:27': 178,\n",
    " '11:28': 179,\n",
    " '11:29': 180,\n",
    " '11:30': 181,\n",
    " '11:35': 182,\n",
    " '11:38': 183,\n",
    " '11:40': 184,\n",
    " '11:43': 185,\n",
    " '11:44': 186,\n",
    " '11:45': 187,\n",
    " '11:46': 188,\n",
    " '11:48': 189,\n",
    " '11:50': 190,\n",
    " '11:52': 191,\n",
    " '11:53': 192,\n",
    " '11:55': 193,\n",
    " '11:56': 194,\n",
    " '11:57': 195,\n",
    " '11:58': 196,\n",
    " '11:59': 197,\n",
    " '12:00': 198,\n",
    " '12:02': 199,\n",
    " '12:04': 200,\n",
    " '12:05': 201,\n",
    " '12:07': 202,\n",
    " '12:10': 203,\n",
    " '12:12': 204,\n",
    " '12:13': 205,\n",
    " '12:15': 206,\n",
    " '12:18': 207,\n",
    " '12:20': 208,\n",
    " '12:21': 209,\n",
    " '12:25': 210,\n",
    " '12:26': 211,\n",
    " '12:29': 212,\n",
    " '12:30': 213,\n",
    " '12:32': 214,\n",
    " '12:33': 215,\n",
    " '12:36': 216,\n",
    " '12:40': 217,\n",
    " '12:42': 218,\n",
    " '12:43': 219,\n",
    " '12:46': 220,\n",
    " '12:50': 221,\n",
    " '12:51': 222,\n",
    " '12:52': 223,\n",
    " '12:56': 224,\n",
    " '12:59': 225,\n",
    " '13:00': 226,\n",
    " '13:05': 227,\n",
    " '13:10': 228,\n",
    " '13:11': 229,\n",
    " '13:15': 230,\n",
    " '13:16': 231,\n",
    " '13:18': 232,\n",
    " '13:25': 233,\n",
    " '13:26': 234,\n",
    " '13:30': 235,\n",
    " '13:33': 236,\n",
    " '13:35': 237,\n",
    " '13:36': 238,\n",
    " '13:38': 239,\n",
    " '13:40': 240,\n",
    " '13:43': 241,\n",
    " '13:44': 242,\n",
    " '13:45': 243,\n",
    " '13:46': 244,\n",
    " '13:50': 245,\n",
    " '13:59': 246,\n",
    " '14:00': 247,\n",
    " '14:05': 248,\n",
    " '14:06': 249,\n",
    " '14:07': 250,\n",
    " '14:09': 251,\n",
    " '14:10': 252,\n",
    " '14:12': 253,\n",
    " '14:15': 254,\n",
    " '14:16': 255,\n",
    " '14:17': 256,\n",
    " '14:19': 257,\n",
    " '14:20': 258,\n",
    " '14:21': 259,\n",
    " '14:24': 260,\n",
    " '14:25': 261,\n",
    " '14:30': 262,\n",
    " '14:32': 263,\n",
    " '14:33': 264,\n",
    " '14:35': 265,\n",
    " '14:36': 266,\n",
    " '14:40': 267,\n",
    " '14:42': 268,\n",
    " '14:43': 269,\n",
    " '14:45': 270,\n",
    " '14:47': 271,\n",
    " '14:50': 272,\n",
    " '14:51': 273,\n",
    " '14:55': 274,\n",
    " '14:57': 275,\n",
    " '14:58': 276,\n",
    " '14:59': 277,\n",
    " '15:00': 278,\n",
    " '15:04': 279,\n",
    " '15:05': 280,\n",
    " '15:06': 281,\n",
    " '15:10': 282,\n",
    " '15:11': 283,\n",
    " '15:15': 284,\n",
    " '15:16': 285,\n",
    " '15:20': 286,\n",
    " '15:22': 287,\n",
    " '15:25': 288,\n",
    " '15:28': 289,\n",
    " '15:29': 290,\n",
    " '15:30': 291,\n",
    " '15:32': 292,\n",
    " '15:33': 293,\n",
    " '15:35': 294,\n",
    " '15:39': 295,\n",
    " '15:40': 296,\n",
    " '15:43': 297,\n",
    " '15:44': 298,\n",
    " '15:45': 299,\n",
    " '15:47': 300,\n",
    " '15:50': 301,\n",
    " '15:52': 302,\n",
    " '15:54': 303,\n",
    " '15:55': 304,\n",
    " '15:57': 305,\n",
    " '15:58': 306,\n",
    " '15:59': 307,\n",
    " '16:00': 308,\n",
    " '16:01': 309,\n",
    " '16:02': 310,\n",
    " '16:03': 311,\n",
    " '16:05': 312,\n",
    " '16:07': 313,\n",
    " '16:10': 314,\n",
    " '16:12': 315,\n",
    " '16:15': 316,\n",
    " '16:16': 317,\n",
    " '16:17': 318,\n",
    " '16:18': 319,\n",
    " '16:20': 320,\n",
    " '16:21': 321,\n",
    " '16:22': 322,\n",
    " '16:24': 323,\n",
    " '16:25': 324,\n",
    " '16:26': 325,\n",
    " '16:27': 326,\n",
    " '16:28': 327,\n",
    " '16:29': 328,\n",
    " '16:30': 329,\n",
    " '16:32': 330,\n",
    " '16:33': 331,\n",
    " '16:35': 332,\n",
    " '16:38': 333,\n",
    " '16:39': 334,\n",
    " '16:40': 335,\n",
    " '16:43': 336,\n",
    " '16:44': 337,\n",
    " '16:45': 338,\n",
    " '16:48': 339,\n",
    " '16:50': 340,\n",
    " '16:52': 341,\n",
    " '16:55': 342,\n",
    " '16:56': 343,\n",
    " '16:59': 344,\n",
    " '17:00': 345,\n",
    " '17:01': 346,\n",
    " '17:02': 347,\n",
    " '17:03': 348,\n",
    " '17:04': 349,\n",
    " '17:05': 350,\n",
    " '17:10': 351,\n",
    " '17:12': 352,\n",
    " '17:14': 353,\n",
    " '17:15': 354,\n",
    " '17:20': 355,\n",
    " '17:21': 356,\n",
    " '17:22': 357,\n",
    " '17:25': 358,\n",
    " '17:26': 359,\n",
    " '17:28': 360,\n",
    " '17:29': 361,\n",
    " '17:30': 362,\n",
    " '17:32': 363,\n",
    " '17:34': 364,\n",
    " '17:35': 365,\n",
    " '17:36': 366,\n",
    " '17:38': 367,\n",
    " '17:40': 368,\n",
    " '17:43': 369,\n",
    " '17:45': 370,\n",
    " '17:46': 371,\n",
    " '17:47': 372,\n",
    " '17:48': 373,\n",
    " '17:50': 374,\n",
    " '17:51': 375,\n",
    " '17:54': 376,\n",
    " '17:55': 377,\n",
    " '17:56': 378,\n",
    " '18:00': 379,\n",
    " '18:02': 380,\n",
    " '18:05': 381,\n",
    " '18:07': 382,\n",
    " '18:10': 383,\n",
    " '18:11': 384,\n",
    " '18:15': 385,\n",
    " '18:22': 386,\n",
    " '18:25': 387,\n",
    " '18:26': 388,\n",
    " '18:27': 389,\n",
    " '18:29': 390,\n",
    " '18:30': 391,\n",
    " '18:31': 392,\n",
    " '18:32': 393,\n",
    " '18:33': 394,\n",
    " '18:35': 395,\n",
    " '18:36': 396,\n",
    " '18:37': 397,\n",
    " '18:38': 398,\n",
    " '18:39': 399,\n",
    " '18:40': 400,\n",
    " '18:43': 401,\n",
    " '18:44': 402,\n",
    " '18:45': 403,\n",
    " '18:47': 404,\n",
    " '18:50': 405,\n",
    " '18:52': 406,\n",
    " '18:53': 407,\n",
    " '18:54': 408,\n",
    " '18:55': 409,\n",
    " '18:56': 410,\n",
    " '18:59': 411,\n",
    " '19:00': 412,\n",
    " '19:01': 413,\n",
    " '19:04': 414,\n",
    " '19:05': 415,\n",
    " '19:08': 416,\n",
    " '19:10': 417,\n",
    " '19:11': 418,\n",
    " '19:12': 419,\n",
    " '19:13': 420,\n",
    " '19:14': 421,\n",
    " '19:15': 422,\n",
    " '19:16': 423,\n",
    " '19:17': 424,\n",
    " '19:18': 425,\n",
    " '19:19': 426,\n",
    " '19:20': 427,\n",
    " '19:25': 428,\n",
    " '19:29': 429,\n",
    " '19:30': 430,\n",
    " '19:32': 431,\n",
    " '19:35': 432,\n",
    " '19:36': 433,\n",
    " '19:40': 434,\n",
    " '19:41': 435,\n",
    " '19:43': 436,\n",
    " '19:45': 437,\n",
    " '19:46': 438,\n",
    " '19:50': 439,\n",
    " '19:55': 440,\n",
    " '19:56': 441,\n",
    " '19:57': 442,\n",
    " '19:58': 443,\n",
    " '20:00': 444,\n",
    " '20:01': 445,\n",
    " '20:02': 446,\n",
    " '20:05': 447,\n",
    " '20:06': 448,\n",
    " '20:08': 449,\n",
    " '20:10': 450,\n",
    " '20:13': 451,\n",
    " '20:14': 452,\n",
    " '20:15': 453,\n",
    " '20:20': 454,\n",
    " '20:23': 455,\n",
    " '20:25': 456,\n",
    " '20:26': 457,\n",
    " '20:27': 458,\n",
    " '20:28': 459,\n",
    " '20:29': 460,\n",
    " '20:30': 461,\n",
    " '20:31': 462,\n",
    " '20:33': 463,\n",
    " '20:35': 464,\n",
    " '20:36': 465,\n",
    " '20:37': 466,\n",
    " '20:38': 467,\n",
    " '20:40': 468,\n",
    " '20:41': 469,\n",
    " '20:43': 470,\n",
    " '20:45': 471,\n",
    " '20:46': 472,\n",
    " '20:50': 473,\n",
    " '20:55': 474,\n",
    " '20:59': 475,\n",
    " '21:00': 476,\n",
    " '21:03': 477,\n",
    " '21:05': 478,\n",
    " '21:06': 479,\n",
    " '21:08': 480,\n",
    " '21:09': 481,\n",
    " '21:10': 482,\n",
    " '21:12': 483,\n",
    " '21:15': 484,\n",
    " '21:18': 485,\n",
    " '21:20': 486,\n",
    " '21:21': 487,\n",
    " '21:22': 488,\n",
    " '21:25': 489,\n",
    " '21:26': 490,\n",
    " '21:27': 491,\n",
    " '21:28': 492,\n",
    " '21:29': 493,\n",
    " '21:30': 494,\n",
    " '21:31': 495,\n",
    " '21:32': 496,\n",
    " '21:33': 497,\n",
    " '21:36': 498,\n",
    " '21:37': 499,\n",
    " '21:42': 500,\n",
    " '21:43': 501,\n",
    " '21:45': 502,\n",
    " '21:46': 503,\n",
    " '21:47': 504,\n",
    " '21:48': 505,\n",
    " '21:50': 506,\n",
    " '21:55': 507,\n",
    " '21:56': 508,\n",
    " '21:59': 509,\n",
    " '22:00': 510,\n",
    " '22:05': 511,\n",
    " '22:08': 512,\n",
    " '22:11': 513,\n",
    " '22:14': 514,\n",
    " '22:15': 515,\n",
    " '22:24': 516,\n",
    " '22:25': 517,\n",
    " '22:31': 518,\n",
    " '22:43': 519,\n",
    " '22:55': 520,\n",
    " '23:40': 521\n",
    " \n",
    " # Year:\n",
    " '2019': 0,\n",
    " '2020': 1 \"\"\""
   ]
  }
 ],
 "metadata": {
  "kernelspec": {
   "display_name": "Python 3",
   "language": "python",
   "name": "python3"
  },
  "language_info": {
   "codemirror_mode": {
    "name": "ipython",
    "version": 3
   },
   "file_extension": ".py",
   "mimetype": "text/x-python",
   "name": "python",
   "nbconvert_exporter": "python",
   "pygments_lexer": "ipython3",
   "version": "3.8.3"
  }
 },
 "nbformat": 4,
 "nbformat_minor": 4
}
